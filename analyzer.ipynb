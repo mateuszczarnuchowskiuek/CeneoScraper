{
 "cells": [
  {
   "cell_type": "markdown",
   "metadata": {},
   "source": [
    "0. Import bibliotek"
   ]
  },
  {
   "cell_type": "code",
   "execution_count": null,
   "metadata": {},
   "outputs": [],
   "source": [
    "import os\n",
    "import pandas as pd\n",
    "import numpy as np\n",
    "from matplotlib import pyplot as plt"
   ]
  },
  {
   "cell_type": "markdown",
   "metadata": {},
   "source": [
    "1. Wyświetlenie listy id produktów, o których zostały pobrane opinie"
   ]
  },
  {
   "cell_type": "code",
   "execution_count": null,
   "metadata": {},
   "outputs": [],
   "source": [
    "print(*[file.split(\".\")[0] for file in os.listdir(\"opinions\")], sep=\"\\n\")"
   ]
  },
  {
   "cell_type": "markdown",
   "metadata": {},
   "source": [
    "2. Wczytanie kodu produktu, o którym mają zostać przeanalizowane opinie"
   ]
  },
  {
   "cell_type": "code",
   "execution_count": null,
   "metadata": {},
   "outputs": [],
   "source": [
    "product_id = input(\"Podaj kod produktu: \")\n",
    "opinions = pd.read_json(f'opinions/{product_id}.json')\n",
    "opinions.stars = opinions.stars.apply(lambda s: s.split(\"/\")[0].replace(\",\", \".\")).astype(float)"
   ]
  },
  {
   "cell_type": "markdown",
   "metadata": {},
   "source": [
    "3. Podstawowe statystyki"
   ]
  },
  {
   "cell_type": "code",
   "execution_count": null,
   "metadata": {},
   "outputs": [],
   "source": [
    "opinions_count = opinions.shape[0]\n",
    "pros_count = opinions.pros.astype(bool).sum()\n",
    "cons_count = opinions.cons.astype(bool).sum()\n",
    "average_stars = opinions.stars.mean()\n",
    "average_stars"
   ]
  },
  {
   "cell_type": "markdown",
   "metadata": {},
   "source": [
    "4. Histogram częstości ocen w opiniach"
   ]
  },
  {
   "cell_type": "code",
   "execution_count": null,
   "metadata": {},
   "outputs": [],
   "source": [
    "stars_distribution = opinions.stars.value_counts().reindex(np.arange(0,5.5,0.5))\n",
    "ax = stars_distribution.plot.bar(color = \"lightskyblue\")\n",
    "ax.set_title(f\"Histogram częstości ocen w opiniach o produkcie {product_id}\")\n",
    "ax.set_xlabel(\"Liczba gwiazdek\")\n",
    "ax.set_ylabel(\"Liczba opinii\")\n",
    "ax.set_xticklabels(ax.get_xticklabels(), rotation=0)\n",
    "ax.bar_label(ax.containers[0], label_type='edge', fmt=lambda l: int(l) if l > 0 else '')\n"
   ]
  },
  {
   "cell_type": "markdown",
   "metadata": {},
   "source": [
    "5. Wykres udziału rekomendacji w opiniach"
   ]
  },
  {
   "cell_type": "code",
   "execution_count": null,
   "metadata": {},
   "outputs": [],
   "source": [
    "recommendations_distribution = opinions.recommend.value_counts(dropna=False).reindex([\"Polecam\", \"Nie polecam\", None])\n",
    "recommendations_distribution.plot.pie(\n",
    "    autopct = lambda p: f'{p:.1f}%' if p > 0 else '',\n",
    "    label = \"\",\n",
    "    colors = ['forestgreen', 'crimson', 'gray'],\n",
    "    labels = [\"Polecam\", \"Nie polecam\", \"Nie mam zdania\"]\n",
    ")\n",
    "plt.title(f\"Udział rekomendacji w opiniach o produkcie {product_id}\")\n"
   ]
  }
 ],
 "metadata": {
  "kernelspec": {
   "display_name": ".venv",
   "language": "python",
   "name": "python3"
  },
  "language_info": {
   "codemirror_mode": {
    "name": "ipython",
    "version": 3
   },
   "file_extension": ".py",
   "mimetype": "text/x-python",
   "name": "python",
   "nbconvert_exporter": "python",
   "pygments_lexer": "ipython3",
   "version": "3.11.4"
  }
 },
 "nbformat": 4,
 "nbformat_minor": 2
}
