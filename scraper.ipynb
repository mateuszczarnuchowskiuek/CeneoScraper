{
 "cells": [
  {
   "cell_type": "markdown",
   "metadata": {},
   "source": [
    "# Ceneo Scraper"
   ]
  },
  {
   "cell_type": "markdown",
   "metadata": {},
   "source": [
    "## Struktura opinii w serwisie Ceneo.pl\n",
    "\n",
    "|składowa|selektor|zmienna|\n",
    "|---|---|---|\n",
    "|identyfikator opinii|[\"data-entry-id\"]|opinion_id|\n",
    "|autor|span.user-post__author-name|author|\n",
    "|rekomendacja|span.user-post__author-recomendation > em |recommend|\n",
    "|liczba gwiazdek|span.user-post__score-count|stars|\n",
    "|treść opinii|div.user-post__text|content|\n",
    "|lista wad|div.review-feature__title--negatives ~ div.review-feature__item|cons|\n",
    "|lista zalet|div.review-feature__title--positives ~ div.review-feature__item|pros|\n",
    "|data wystawienia opinii|span.user-post__published > time:nth-child(1)[\"datetime\"]|opinion_date|\n",
    "|data zakupu produktu|span.user-post__published > time:nth-child(2)[\"datetime\"]|purchase_date|\n",
    "|ile osób uznało opinię za przydatną|button.vote-yes[\"data-total-vote\"]|up_vote|\n",
    "|ile osób uznało opinię za nieprzydatną|button.vote-no[\"data-total-vote\"]|down_vote|\n",
    "\n",
    "\n",
    "https://www.ceneo.pl/108481122#tab=reviews\n"
   ]
  },
  {
   "cell_type": "code",
   "execution_count": null,
   "metadata": {},
   "outputs": [],
   "source": [
    "selectors = {\n",
    "    \"opinion_id\": (None,\"data-entry-id\"),\n",
    "    \"author\": (\"span.user-post__author-name\",),\n",
    "    \"recommend\": (\"span.user-post__author-recomendation > em\",),\n",
    "    \"stars\": (\"span.user-post__score-count\",),\n",
    "    \"content\": (\"div.user-post__text\",),\n",
    "    \"cons\": (\"div.review-feature__title--negatives ~ div.review-feature__item\", None, True),\n",
    "    \"pros\": (\"div.review-feature__title--positives ~ div.review-feature__item\", None, True),\n",
    "    \"opinion_date\": (\"span.user-post__published > time:nth-child(1)\",\"datetime\"),\n",
    "    \"purchase_date\": (\"span.user-post__published > time:nth-child(2)\",\"datetime\"),\n",
    "    \"up_vote\": (\"button.vote-yes\",\"data-total-vote\"),\n",
    "    \"down_vote\": (\"button.vote-no\",\"data-total-vote\"),\n",
    "}"
   ]
  },
  {
   "cell_type": "markdown",
   "metadata": {},
   "source": [
    "## Wydobycie ze struktury znacznika odpowiadającego pojedynczej opinii  i jej składowych"
   ]
  },
  {
   "cell_type": "code",
   "execution_count": null,
   "metadata": {},
   "outputs": [],
   "source": [
    "def extract(ancestor, selector=None, attribute=None, return_list=False):\n",
    "    if return_list:\n",
    "        if attribute:\n",
    "            return [tag[attribute].strip() for tag in ancestor.select(selector)]\n",
    "        return [tag.text.strip() for tag in ancestor.select(selector)]   \n",
    "    if selector:\n",
    "        if attribute:\n",
    "            try:\n",
    "                return ancestor.select_one(selector)[attribute].strip()\n",
    "            except TypeError:\n",
    "                return None\n",
    "        try:\n",
    "            return ancestor.select_one(selector).text.strip()\n",
    "        except AttributeError:\n",
    "            return None\n",
    "    if attribute:\n",
    "        return ancestor[attribute].strip()\n",
    "    return ancestor.text.strip()"
   ]
  },
  {
   "cell_type": "markdown",
   "metadata": {},
   "source": [
    "## Import bibliotek\n"
   ]
  },
  {
   "cell_type": "code",
   "execution_count": null,
   "metadata": {},
   "outputs": [],
   "source": [
    "import os\n",
    "import json\n",
    "import requests\n",
    "from bs4 import BeautifulSoup"
   ]
  },
  {
   "cell_type": "markdown",
   "metadata": {},
   "source": [
    "### Wczytanie konkretnego produktu"
   ]
  },
  {
   "cell_type": "code",
   "execution_count": null,
   "metadata": {},
   "outputs": [],
   "source": [
    "# product_id = \"108481122\"\n",
    "product_id = input(\"Podaj kod produktu: \")\n",
    "url = f\"https://www.ceneo.pl/{product_id}#tab=reviews\""
   ]
  },
  {
   "cell_type": "markdown",
   "metadata": {},
   "source": [
    "### Pobranie wszystkich opinii o produkcie"
   ]
  },
  {
   "cell_type": "code",
   "execution_count": null,
   "metadata": {},
   "outputs": [],
   "source": [
    "all_opinions = []\n",
    "while(url):\n",
    "    response = requests.get(url)\n",
    "    page = BeautifulSoup(response.text, \"html.parser\")\n",
    "    opinions = page.select(\"div.js_product-review\")\n",
    "    for opinion in opinions:\n",
    "        single_opinion = {\n",
    "            key: extract(opinion, *value) \n",
    "                for key, value in selectors.items()\n",
    "        }\n",
    "        all_opinions.append(single_opinion)\n",
    "    try:\n",
    "        url = \"https://www.ceneo.pl\" + extract(page, \"a.pagination__next\", \"href\")\n",
    "    except TypeError:\n",
    "        url = None"
   ]
  },
  {
   "cell_type": "markdown",
   "metadata": {},
   "source": [
    "### Zapis opinii o produkcie do pliku json do katalogu opinions"
   ]
  },
  {
   "cell_type": "code",
   "execution_count": null,
   "metadata": {},
   "outputs": [],
   "source": [
    "if not os.path.exists('opinions'):\n",
    "    os.mkdir('opinions')\n",
    "with open(f'opinions/{product_id}.json', \"w\", encoding=\"UTF-8\") as jf:\n",
    "    json.dump(all_opinions, jf, indent=4, ensure_ascii=False)\n"
   ]
  },
  {
   "cell_type": "markdown",
   "metadata": {},
   "source": [
    "---\n",
    "## UWAGA!!! Poniżej tej linii znajduje się legacy code zostawiony do wglądu, żeby do niego sobie wrócić\n",
    "---"
   ]
  },
  {
   "cell_type": "markdown",
   "metadata": {},
   "source": [
    "Wysłanie do serwera Ceneo.pl rządania dostępu do strony z opiniami o produkcie."
   ]
  },
  {
   "cell_type": "code",
   "execution_count": null,
   "metadata": {},
   "outputs": [],
   "source": [
    "response = requests.get(url)"
   ]
  },
  {
   "cell_type": "markdown",
   "metadata": {},
   "source": [
    "rządanie wysyłamy tylko raz, a potem pracujemy już na zmiennej response, żeby nas ceneo nie zbanowało, że dużo requestów im wysyłamy"
   ]
  },
  {
   "cell_type": "code",
   "execution_count": null,
   "metadata": {},
   "outputs": [],
   "source": [
    "response.status_code #"
   ]
  },
  {
   "cell_type": "markdown",
   "metadata": {},
   "source": [
    "jeśli damy jakąś zmienną na końcu to jupier wyświetli nam jej wartość"
   ]
  },
  {
   "cell_type": "markdown",
   "metadata": {},
   "source": [
    "status code 200 oznacza, że się udało"
   ]
  },
  {
   "cell_type": "markdown",
   "metadata": {},
   "source": [
    "## Przekształcenie kodu html w postacii tekstowej do obiektu reprezentującego strukturę DOM i wydobycie ze struktury DOM znaczników odpowiadających opiniom konsumentów"
   ]
  },
  {
   "cell_type": "code",
   "execution_count": null,
   "metadata": {},
   "outputs": [],
   "source": [
    "page = BeautifulSoup(response.text, \"html.parser\")\n",
    "opinions = page.select(\"div.js_product-review\") #ten zwróci nam wszystkie pasujące opinie\n",
    "#opinion = page.select_one(\"div.js_product-review\") #ten zwróci nam tylko jedną pasującą opinię (tę pierwszą napotkaną)\n",
    "#print(page)\n",
    "print(type(page))\n",
    "print(type(opinions))\n",
    "#print(type(opinion))"
   ]
  },
  {
   "cell_type": "code",
   "execution_count": null,
   "metadata": {},
   "outputs": [],
   "source": [
    "all_opinions = []\n",
    "for opinion in opinions:\n",
    "    single_opinion = {\n",
    "        key: extract(opinion, *value)\n",
    "            for key, value in selectors.items()\n",
    "    }\n",
    "    all_opinions.append(single_opinion)"
   ]
  },
  {
   "cell_type": "markdown",
   "metadata": {},
   "source": [
    "tutaj robimy list comprehension czy jakoś tak to się nazywa:"
   ]
  },
  {
   "cell_type": "code",
   "execution_count": null,
   "metadata": {},
   "outputs": [],
   "source": [
    "single_opinion = {\n",
    "    key: extract(opinion, *value) #gwiazdka wypakowue nam listę/krotkę i wyyciąga poszczególne elementy (cokolwiek to znaczy)\n",
    "        for key, value in selectors.items() = {\n",
    "            key: extract(opinion, *value)\n",
    "                for key, value in selectors.items()\n",
    "        }\n",
    "}"
   ]
  },
  {
   "cell_type": "code",
   "execution_count": null,
   "metadata": {},
   "outputs": [],
   "source": [
    "print(type(*selectors['opinion_date'])) #dictionary comprehension"
   ]
  },
  {
   "cell_type": "code",
   "execution_count": null,
   "metadata": {},
   "outputs": [],
   "source": [
    "single_opinion = {\n",
    "    \"opinion_id\": extract(opinion, None, \"data-entry-id\"),\n",
    "    \"author\": extract(opinion, \"span.user-post__author-name\"),\n",
    "    \"recommend\": extract(opinion, \"span.user-post__author-recomendation> em\"),\n",
    "    \"stars\": extract(opinion, \"span.user-post__score-count\"),\n",
    "    \"content\": extract(opinion, \"div.user-post__text\"),\n",
    "    \"cons\": extract(opinion, \"div.review-feature__title--negatives ~ div.review-feature__item\", None, True),\n",
    "    \"pros\": extract(opinion, \"div.review-feature__title--positives ~ div.review-feature__item\", None, True),\n",
    "    \"opinion_date\": extract(opinion, \"span.user-post__published > time:nth-child(1)\", \"datetime\"),\n",
    "    \"purchase_date\": extract(opinion,\"span.user-post__published > time:nth-child(2)\",\"datetime\"),\n",
    "    \"up_vote\": extract(opinion,\"button.vote-yes\",\"data-total-vote\"),\n",
    "    \"down_vote\": extract(opinion,\"button.vote-no\",\"data-total-vote\")\n",
    "}"
   ]
  },
  {
   "cell_type": "code",
   "execution_count": null,
   "metadata": {},
   "outputs": [],
   "source": [
    "response.text"
   ]
  }
 ],
 "metadata": {
  "kernelspec": {
   "display_name": ".venv",
   "language": "python",
   "name": "python3"
  },
  "language_info": {
   "codemirror_mode": {
    "name": "ipython",
    "version": 3
   },
   "file_extension": ".py",
   "mimetype": "text/x-python",
   "name": "python",
   "nbconvert_exporter": "python",
   "pygments_lexer": "ipython3",
   "version": "3.11.4"
  }
 },
 "nbformat": 4,
 "nbformat_minor": 2
}
